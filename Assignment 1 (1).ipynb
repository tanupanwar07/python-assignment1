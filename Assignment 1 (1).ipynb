{
 "cells": [
  {
   "cell_type": "markdown",
   "id": "48dad40a",
   "metadata": {},
   "source": [
    "### solution1:\n",
    "  \n"
   ]
  },
  {
   "cell_type": "markdown",
   "id": "c9561222",
   "metadata": {},
   "source": [
    "\"hello\" ,  \n",
    "-87.5   ,\n",
    " 6           \n",
    " are the values or expression."
   ]
  },
  {
   "cell_type": "markdown",
   "id": "8c49042b",
   "metadata": {},
   "source": [
    "### solution2:"
   ]
  },
  {
   "cell_type": "markdown",
   "id": "1f42410b",
   "metadata": {},
   "source": [
    "**Difference b/w string and variable**\n",
    "\n",
    "STRING is a sequence of text or characters enclosed in single or double quotation mark.\n",
    "\n",
    "VARIABLE is a name that stores data that can be used for further processing.\n",
    "\n",
    "example:\n",
    "     \n",
    "     s= \"this is a string.\"\n",
    "    \n",
    "    Here, s is a variable which is storing a string type of data.\n",
    "\n"
   ]
  },
  {
   "cell_type": "markdown",
   "id": "cc611d2e",
   "metadata": {},
   "source": [
    "### solution3:"
   ]
  },
  {
   "cell_type": "markdown",
   "id": "81032ea0",
   "metadata": {},
   "source": [
    "**Data Types**\n",
    "\n",
    "Data type specify which type(integer,text,sequential etc) of data,a variable has.\n",
    "\n",
    ">Data Types in python are:\n",
    "\n",
    "int(integers): _This represent integer (positive or negative whole number) type                of data._\n",
    "\n",
    "float(floating or decimal point number):_This represent real numbers with        decimal._\n",
    "\n",
    "list: _Lists are the ordered collection of data(homogeneous as well as heterogenous).__\n",
    "\n"
   ]
  },
  {
   "cell_type": "markdown",
   "id": "f47f0509",
   "metadata": {},
   "source": [
    "\n",
    "### solution4: "
   ]
  },
  {
   "cell_type": "markdown",
   "id": "624acdca",
   "metadata": {},
   "source": [
    "_Expression_ is made up of operators and operands that is evaluated to get a single value.\n",
    "\n"
   ]
  },
  {
   "cell_type": "code",
   "execution_count": 10,
   "id": "38221cec",
   "metadata": {},
   "outputs": [
    {
     "data": {
      "text/plain": [
       "5.0398000000000005"
      ]
     },
     "execution_count": 10,
     "metadata": {},
     "output_type": "execute_result"
    }
   ],
   "source": [
    "x=3.14**2/2.00+0.11        #example\n",
    "x"
   ]
  },
  {
   "cell_type": "markdown",
   "id": "b4b3260f",
   "metadata": {},
   "source": [
    "### solution5:"
   ]
  },
  {
   "cell_type": "markdown",
   "id": "5a69bc56",
   "metadata": {},
   "source": [
    "**E**xpression always returns a value.\n",
    "\n",
    "**S**taments never returns any value.\n",
    "\n",
    "spam=10 is a statement since it doesnot return any value."
   ]
  },
  {
   "cell_type": "code",
   "execution_count": 12,
   "id": "4e3dc596",
   "metadata": {},
   "outputs": [],
   "source": [
    "spam=10"
   ]
  },
  {
   "cell_type": "markdown",
   "id": "132229c9",
   "metadata": {},
   "source": [
    "### solution6:"
   ]
  },
  {
   "cell_type": "code",
   "execution_count": 13,
   "id": "466fbd44",
   "metadata": {},
   "outputs": [],
   "source": [
    "bacon=22"
   ]
  },
  {
   "cell_type": "code",
   "execution_count": 14,
   "id": "9a8ab12b",
   "metadata": {},
   "outputs": [
    {
     "data": {
      "text/plain": [
       "23"
      ]
     },
     "execution_count": 14,
     "metadata": {},
     "output_type": "execute_result"
    }
   ],
   "source": [
    "bacon+1"
   ]
  },
  {
   "cell_type": "markdown",
   "id": "d303db3b",
   "metadata": {},
   "source": [
    "### solution7:"
   ]
  },
  {
   "cell_type": "code",
   "execution_count": 15,
   "id": "817997b5",
   "metadata": {},
   "outputs": [
    {
     "data": {
      "text/plain": [
       "'spamspamspam'"
      ]
     },
     "execution_count": 15,
     "metadata": {},
     "output_type": "execute_result"
    }
   ],
   "source": [
    "'spam'+'spamspam'"
   ]
  },
  {
   "cell_type": "code",
   "execution_count": 17,
   "id": "18c0b595",
   "metadata": {},
   "outputs": [
    {
     "data": {
      "text/plain": [
       "'spamspamspam'"
      ]
     },
     "execution_count": 17,
     "metadata": {},
     "output_type": "execute_result"
    }
   ],
   "source": [
    "'spam'*3"
   ]
  },
  {
   "cell_type": "code",
   "execution_count": 19,
   "id": "667e5d97",
   "metadata": {},
   "outputs": [],
   "source": [
    "#   'spam'+'spamspam' and 'spam'*3  both yields the same value.   "
   ]
  },
  {
   "cell_type": "markdown",
   "id": "c5214f4c",
   "metadata": {},
   "source": [
    "### solution8:"
   ]
  },
  {
   "cell_type": "markdown",
   "id": "2ce1550f",
   "metadata": {},
   "source": [
    "egg is a valid variable name since the variable name is started with a letter \n",
    "\n",
    "but 100 is not a valid variable name because variable name cannot begin with number."
   ]
  },
  {
   "cell_type": "code",
   "execution_count": 21,
   "id": "19935838",
   "metadata": {},
   "outputs": [],
   "source": [
    "egg=\"white or brown\""
   ]
  },
  {
   "cell_type": "code",
   "execution_count": 22,
   "id": "705910db",
   "metadata": {},
   "outputs": [
    {
     "name": "stdout",
     "output_type": "stream",
     "text": [
      "white or brown\n"
     ]
    }
   ],
   "source": [
    "print(egg)"
   ]
  },
  {
   "cell_type": "code",
   "execution_count": 23,
   "id": "09672b34",
   "metadata": {},
   "outputs": [
    {
     "ename": "SyntaxError",
     "evalue": "cannot assign to literal (2849855842.py, line 1)",
     "output_type": "error",
     "traceback": [
      "\u001b[1;36m  Input \u001b[1;32mIn [23]\u001b[1;36m\u001b[0m\n\u001b[1;33m    100= \"abc\"\u001b[0m\n\u001b[1;37m    ^\u001b[0m\n\u001b[1;31mSyntaxError\u001b[0m\u001b[1;31m:\u001b[0m cannot assign to literal\n"
     ]
    }
   ],
   "source": [
    "100= \"abc\""
   ]
  },
  {
   "cell_type": "markdown",
   "id": "f6b0027e",
   "metadata": {},
   "source": [
    "### solution9:"
   ]
  },
  {
   "cell_type": "code",
   "execution_count": 25,
   "id": "c2763ce0",
   "metadata": {},
   "outputs": [],
   "source": [
    "# let's suppose a variable named as \"Area\" which is assigned to a value 150.\n",
    "Area=100\n"
   ]
  },
  {
   "cell_type": "code",
   "execution_count": 26,
   "id": "0869a35f",
   "metadata": {},
   "outputs": [
    {
     "data": {
      "text/plain": [
       "100"
      ]
     },
     "execution_count": 26,
     "metadata": {},
     "output_type": "execute_result"
    }
   ],
   "source": [
    "int(Area)"
   ]
  },
  {
   "cell_type": "code",
   "execution_count": 27,
   "id": "9c81f698",
   "metadata": {},
   "outputs": [
    {
     "data": {
      "text/plain": [
       "100.0"
      ]
     },
     "execution_count": 27,
     "metadata": {},
     "output_type": "execute_result"
    }
   ],
   "source": [
    "float(Area)"
   ]
  },
  {
   "cell_type": "code",
   "execution_count": 28,
   "id": "6f121151",
   "metadata": {},
   "outputs": [
    {
     "data": {
      "text/plain": [
       "'100'"
      ]
     },
     "execution_count": 28,
     "metadata": {},
     "output_type": "execute_result"
    }
   ],
   "source": [
    "str(Area)"
   ]
  },
  {
   "cell_type": "markdown",
   "id": "7a0a4eae",
   "metadata": {},
   "source": [
    "### solution10:"
   ]
  },
  {
   "cell_type": "markdown",
   "id": "b7c4b50e",
   "metadata": {},
   "source": [
    "The given expression cause an error because a string cannot be concatenated with integer."
   ]
  },
  {
   "cell_type": "code",
   "execution_count": 30,
   "id": "15dfe01d",
   "metadata": {},
   "outputs": [
    {
     "data": {
      "text/plain": [
       "'I have eaten 99 burritos.'"
      ]
     },
     "execution_count": 30,
     "metadata": {},
     "output_type": "execute_result"
    }
   ],
   "source": [
    "#Fixing of the error (by converting integer 99 into a string.)\n",
    " \n",
    "'I have eaten '+str(99)+' burritos.'   "
   ]
  },
  {
   "cell_type": "code",
   "execution_count": null,
   "id": "19ef6b59",
   "metadata": {},
   "outputs": [],
   "source": []
  }
 ],
 "metadata": {
  "kernelspec": {
   "display_name": "Python 3 (ipykernel)",
   "language": "python",
   "name": "python3"
  },
  "language_info": {
   "codemirror_mode": {
    "name": "ipython",
    "version": 3
   },
   "file_extension": ".py",
   "mimetype": "text/x-python",
   "name": "python",
   "nbconvert_exporter": "python",
   "pygments_lexer": "ipython3",
   "version": "3.9.12"
  }
 },
 "nbformat": 4,
 "nbformat_minor": 5
}
